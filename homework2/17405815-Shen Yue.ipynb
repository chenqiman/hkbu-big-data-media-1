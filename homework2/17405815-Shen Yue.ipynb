{
 "cells": [
  {
   "cell_type": "code",
   "execution_count": 59,
   "metadata": {},
   "outputs": [],
   "source": [
    "import requests"
   ]
  },
  {
   "cell_type": "code",
   "execution_count": 77,
   "metadata": {},
   "outputs": [],
   "source": [
    "import bs4"
   ]
  },
  {
   "cell_type": "code",
   "execution_count": 78,
   "metadata": {},
   "outputs": [],
   "source": [
    "import csv"
   ]
  },
  {
   "cell_type": "code",
   "execution_count": 79,
   "metadata": {},
   "outputs": [],
   "source": [
    "r=requests.get('https://www.amazon.cn/gp/bestsellers/books#1')"
   ]
  },
  {
   "cell_type": "code",
   "execution_count": 80,
   "metadata": {},
   "outputs": [
    {
     "name": "stderr",
     "output_type": "stream",
     "text": [
      "/Users/shenyue/Library/Python/3.6/lib/python/site-packages/bs4/__init__.py:181: UserWarning: No parser was explicitly specified, so I'm using the best available HTML parser for this system (\"lxml\"). This usually isn't a problem, but if you run this code on another system, or in a different virtual environment, it may use a different parser and behave differently.\n",
      "\n",
      "The code that caused this warning is on line 193 of the file /Library/Frameworks/Python.framework/Versions/3.6/lib/python3.6/runpy.py. To get rid of this warning, change code that looks like this:\n",
      "\n",
      " BeautifulSoup(YOUR_MARKUP})\n",
      "\n",
      "to this:\n",
      "\n",
      " BeautifulSoup(YOUR_MARKUP, \"lxml\")\n",
      "\n",
      "  markup_type=markup_type))\n"
     ]
    }
   ],
   "source": [
    "mypage=bs4.BeautifulSoup(r.text)"
   ]
  },
  {
   "cell_type": "code",
   "execution_count": 81,
   "metadata": {},
   "outputs": [],
   "source": [
    "mybooks=mypage.find_all('div',attrs={'class':'a-fixed-left-grid-col a-col-right'})"
   ]
  },
  {
   "cell_type": "code",
   "execution_count": 82,
   "metadata": {},
   "outputs": [],
   "source": [
    "books=[]"
   ]
  },
  {
   "cell_type": "code",
   "execution_count": 83,
   "metadata": {},
   "outputs": [],
   "source": [
    "for mybook in mybooks:\n",
    "    \n",
    "    mytitle=mybook.find('a').text.strip()\n",
    "    myauthor=mybook.find('span',attrs={'class':'a-size-small a-color-base'}).text.strip()\n",
    "    mygrade=mybook.find('i').text.strip()\n",
    "    mytype=mybook.find('span',attrs={'class':'a-size-small a-color-secondary'}).text.strip()\n",
    "    myprice=mybook.find('span',attrs={'class':'p13n-sc-price'}).text.strip()\n",
    "    books.append([mytitle,myauthor,mygrade,mytype,myprice])"
   ]
  },
  {
   "cell_type": "code",
   "execution_count": 84,
   "metadata": {},
   "outputs": [
    {
     "data": {
      "text/plain": [
       "[['原则(简体中文版)', '瑞·达利欧', '平均 4.5 星', '精装', '￥66.64'],\n",
       " ['刺杀骑士团长', '村上春树', '平均 4.0 星', '平装', '￥76.30'],\n",
       " ['解忧杂货店', '东野圭吾', '平均 4.7 星', '精装', '￥27.30'],\n",
       " ['宝宝第一套好性格养成书:皮特猫(套装共6册)',\n",
       "  '艾瑞克·利温 (Eric Litwin)',\n",
       "  '平均 4.6 星',\n",
       "  '平装',\n",
       "  '￥82.93'],\n",
       " ['见识', '吴军', '平均 4.1 星', '精装', '￥33.32'],\n",
       " ['非暴力沟通', '马歇尔·卢森堡 (Marshall B.Rosenberg)', '平均 4.5 星', '平装', '￥23.40'],\n",
       " ['天真的幽默家:老舍40年散文经典(作家榜插图典藏版)', '老舍', '平均 4.8 星', '平装', '￥36.54'],\n",
       " ['三体(1-3)(套装共3册)', '刘慈欣', '平均 4.5 星', '平装', '￥64.20'],\n",
       " ['我们仨', '杨绛', '平均 4.5 星', '平装', '￥11.30'],\n",
       " ['我的第一本专注力训练书（专注的孩子更聪明）', '美国迪士尼公司', '平均 4.7 星', '平装', '￥29.79'],\n",
       " ['格林文集:一个被出卖的杀手', '格雷厄姆•格林(Graham Greene)', '平均 4.7 星', '精装', '￥29.35'],\n",
       " ['万历十五年(增订本)', '黄仁宇', '平均 4.5 星', '平装', '￥14.20'],\n",
       " ['房思琪的初恋乐园', '林奕含', '平均 4.7 星', '平装', '￥27.00'],\n",
       " ['高难度沟通:麻省理工高人气沟通课', '贾森·杰伊', '平均 4.6 星', '平装', '￥27.14'],\n",
       " ['人类简史:从动物到上帝(简体中文版)', '尤瓦尔·赫拉利', '平均 4.6 星', '平装', '￥40.80'],\n",
       " ['宝宝第一套高情商养成书:皮特猫(第二辑)(套装共6册)',\n",
       "  '金柏莉•迪安 (Kimberly Dean)',\n",
       "  '平均 4.7 星',\n",
       "  '平装',\n",
       "  '￥112.23'],\n",
       " ['格林文集:恋情的终结', '格雷厄姆·格林 (Graham Greene)', '平均 4.6 星', '精装', '￥28.42'],\n",
       " ['格林文集:命运的内核', '格雷厄姆•格林 (Graham Greene)', '平均 4.4 星', '精装', '￥34.25'],\n",
       " ['手绘版儿童科普书:幼儿十万个为什么(套装共7册)', '漫果文化', '平均 4.3 星', '平装', '￥67.60'],\n",
       " ['月亮与六便士(作家榜全新译本•未删节插图珍藏版)', '毛姆', '平均 4.5 星', '平装', '￥33.19']]"
      ]
     },
     "execution_count": 84,
     "metadata": {},
     "output_type": "execute_result"
    }
   ],
   "source": [
    "books"
   ]
  },
  {
   "cell_type": "code",
   "execution_count": 86,
   "metadata": {},
   "outputs": [],
   "source": [
    "import csv\n",
    "with open('Amazonbestbooks.csv', 'w', newline='') as csvfile:\n",
    "    spamwriter = csv.writer(csvfile, delimiter=',',\n",
    "                            quotechar='\"', quoting=csv.QUOTE_MINIMAL)\n",
    "    spamwriter.writerows(books)"
   ]
  },
  {
   "cell_type": "code",
   "execution_count": null,
   "metadata": {},
   "outputs": [],
   "source": []
  },
  {
   "cell_type": "code",
   "execution_count": null,
   "metadata": {},
   "outputs": [],
   "source": []
  }
 ],
 "metadata": {
  "kernelspec": {
   "display_name": "Python 3",
   "language": "python",
   "name": "python3"
  },
  "language_info": {
   "codemirror_mode": {
    "name": "ipython",
    "version": 3
   },
   "file_extension": ".py",
   "mimetype": "text/x-python",
   "name": "python",
   "nbconvert_exporter": "python",
   "pygments_lexer": "ipython3",
   "version": "3.6.4"
  }
 },
 "nbformat": 4,
 "nbformat_minor": 2
}
